{
 "cells": [
  {
   "cell_type": "code",
   "execution_count": 44,
   "id": "40d44bdd-5b74-4892-ac8d-81229851d78c",
   "metadata": {},
   "outputs": [
    {
     "name": "stdout",
     "output_type": "stream",
     "text": [
      "Friday, October 03, 2025, local time 04:20:58PM\n",
      "2025-10-03 16:20:58\n"
     ]
    }
   ],
   "source": [
    "#13.1\n",
    "from datetime import datetime\n",
    "import builtins\n",
    "date = datetime.now().strftime(\"%A, %B %d, %Y, local time %I:%M:%S%p\")\n",
    "\n",
    "file = \"today.txt\"\n",
    "with open(file, 'w') as file:\n",
    "    file.write(date)\n",
    "\n",
    "#13.2\n",
    "with builtins.open('today.txt', 'r') as file:\n",
    "    today_string = file.read()\n",
    "    print(today_string)\n",
    "\n",
    "#13.3\n",
    "ParsedDate = datetime.strptime(today_string, \"%A, %B %d, %Y, local time %I:%M:%S%p\")\n",
    "print(ParsedDate)"
   ]
  },
  {
   "cell_type": "code",
   "execution_count": 11,
   "id": "a67b9cdd-1f81-4e1e-9e5f-8129a9fd6254",
   "metadata": {},
   "outputs": [
    {
     "name": "stdout",
     "output_type": "stream",
     "text": [
      "Friday, October 03, 2025, local time 04:28:14PM\n",
      "Friday, October 03, 2025, local time 04:28:15PM\n",
      "Friday, October 03, 2025, local time 04:28:16PM\n"
     ]
    }
   ],
   "source": [
    "#15.1\n",
    "import random\n",
    "import multiprocessing\n",
    "import time\n",
    "from datetime import datetime\n",
    "\n",
    "randomNum = random.randint(0,1)\n",
    "\n",
    "def whoami(what):\n",
    "  for n in range(3):\n",
    "    if randomNum == 0:\n",
    "        date = datetime.now().strftime(\"%A, %B %d, %Y, local time %I:%M:%S%p\")\n",
    "        print(date)\n",
    "    else:\n",
    "       time.sleep(1)\n",
    "       date = datetime.now().strftime(\"%A, %B %d, %Y, local time %I:%M:%S%p\")\n",
    "       print(date)\n",
    "\n",
    "if __name__ == \"__main__\":\n",
    "    whoami(\"I'm the main program\")\n",
    "    for n in range(3):\n",
    "        p = multiprocessing.Process(target=whoami,\n",
    "          args=(\"I'm function %s\" % n,))\n",
    "        p.start()"
   ]
  },
  {
   "cell_type": "code",
   "execution_count": null,
   "id": "cbb65388-824a-4b24-8d74-7300eac3a602",
   "metadata": {},
   "outputs": [],
   "source": []
  },
  {
   "cell_type": "code",
   "execution_count": null,
   "id": "d10eda51-24d0-42d1-acd0-38414c954fc7",
   "metadata": {},
   "outputs": [],
   "source": []
  }
 ],
 "metadata": {
  "kernelspec": {
   "display_name": "Python 3",
   "language": "python",
   "name": "python3"
  },
  "language_info": {
   "codemirror_mode": {
    "name": "ipython",
    "version": 3
   },
   "file_extension": ".py",
   "mimetype": "text/x-python",
   "name": "python",
   "nbconvert_exporter": "python",
   "pygments_lexer": "ipython3",
   "version": "3.13.7"
  }
 },
 "nbformat": 4,
 "nbformat_minor": 5
}
